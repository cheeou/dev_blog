{
 "cells": [
  {
   "cell_type": "markdown",
   "metadata": {},
   "source": [
    "### 1. HTML 기본 구조\n",
    "\n",
    "HTML은 요소(Elements)단위로 전체 구성이 되어있다.<br>\n",
    "![html 구조](https://www.hubspot.com/hs-fs/hubfs/html-elements-diagram.png?width=650&name=html-elements-diagram.png)\n"
   ]
  },
  {
   "cell_type": "markdown",
   "metadata": {},
   "source": [
    "#### 1-1. 요소의 올바른 사용\n",
    "\n",
    "HTML요소안에 다른 요소가 들어갈 수 있으나 end tag 이전에 또 다른 요소가 들어가면 잘못된 사용이다."
   ]
  },
  {
   "cell_type": "code",
   "execution_count": null,
   "metadata": {
    "vscode": {
     "languageId": "html"
    }
   },
   "outputs": [],
   "source": [
    "<p>\n",
    "\tHTML은 요소 안에 \n",
    "\t<strong>다른 요소</strong>가 들어갈 수 있습니다\n",
    "</p>\n",
    "\n",
    "<!-- 잘못 사용된 예 -->\n",
    "<p>\n",
    "\tHTML은 요소 안에 \n",
    "\t<strong>다른 요소 가 들어갈 수 있습니다\n",
    "</p>\n",
    "\t</strong>"
   ]
  },
  {
   "cell_type": "markdown",
   "metadata": {},
   "source": [
    "#### 1-2. Self-closing / 빈요소\n",
    "br, input, img 태그는 닫는 태그가 없어 self-closing 문법으로 end tag에 '/'를 넣어주었지만 현재는 생략해도 된다."
   ]
  },
  {
   "cell_type": "code",
   "execution_count": null,
   "metadata": {
    "vscode": {
     "languageId": "html"
    }
   },
   "outputs": [],
   "source": [
    "(ex)\n",
    "<br />\n",
    "\n",
    "(now)\n",
    "<br>"
   ]
  },
  {
   "cell_type": "markdown",
   "metadata": {},
   "source": [
    "#### 1-3. 주석\n",
    "\n",
    "기밀 사항을 적어두는 것은 피하고 직관적인 코드로 주석을 최소화 하는 것을 목표로 한다. \n",
    "주니어 단계에서는 실수하지 않도록 꼼꼼히 주석을 달아두는 것이 좋다\n",
    "\n",
    "ㄱ) 태그의 시작과 끝을 적어두기: 코드 시작과 끝을 명시해주면 중간 태그 닫는 것을 누락했을 때 오류체크에 용이"
   ]
  },
  {
   "cell_type": "code",
   "execution_count": null,
   "metadata": {
    "vscode": {
     "languageId": "html"
    }
   },
   "outputs": [],
   "source": [
    "<!-- start -->\n",
    "<!-- //end -->\n",
    "\n",
    "<!-- form -->\n",
    "<form>\n",
    "\t...생략...\n",
    "</form>\n",
    "<!-- //form -->"
   ]
  },
  {
   "cell_type": "markdown",
   "metadata": {},
   "source": [
    "#### 1-4. HTML 관계도\n",
    "\n",
    "<p align=\"center\"><img src=\"https://file.notion.so/f/f/579fe283-28aa-489d-ae65-d683304becfc/c5484f5e-4f18-458f-a87a-4f2ae853574d/html.png?id=0d8c5bf5-267e-4322-835a-cb9585aaa806&table=block&spaceId=579fe283-28aa-489d-ae65-d683304becfc&expirationTimestamp=1720713600000&signature=VllbUqF-0D78EyuMhaYyokySC15P3YZ9dAKMfc5zL34&downloadName=html.png\" width=1000 height=600></p>\n",
    "\n",
    "출저- paullabworkspace.notion"
   ]
  },
  {
   "cell_type": "markdown",
   "metadata": {},
   "source": [
    "![](https://img.theqoo.net/JdVGK)\n"
   ]
  },
  {
   "cell_type": "markdown",
   "metadata": {},
   "source": [
    "<p align=\"center\"><img src=\"https://img-store.theqoo.net/JdVGK.jpg\" width=800 height=600></p>"
   ]
  },
  {
   "cell_type": "markdown",
   "metadata": {},
   "source": [
    "### 2. HTML 문서해부\n",
    "\n",
    "2-1. `<!DOCTYPE html>`<br>\n",
    "    : HTML의 버전, 웹 브라우저 내용을 잘 출력할 수 있도록 도와주는 역할로 구버전에서 신버전 HTML 태그를 사용한다면 웹브라우저에서 문법오류로 간주한다. 해당 선언을 통해 구/신 버전에 알맞게 문법을 검사한다. 그러나 기본적으로 브라우저가 알아서 처리해줌\n"
   ]
  },
  {
   "cell_type": "code",
   "execution_count": null,
   "metadata": {
    "vscode": {
     "languageId": "html"
    }
   },
   "outputs": [],
   "source": [
    "<!-- HTML 4.01 Strict -->\n",
    "<!DOCTYPE HTML PUBLIC \"-//W3C//DTD HTML 4.01//EN\" \"http://www.w3.org/TR/html4/strict.dtd\">\n",
    " \n",
    "<!-- HTML 4.01 Transitional -->\n",
    "<!DOCTYPE HTML PUBLIC \"-//W3C//DTD HTML 4.01 Transitional//EN\" \"http://www.w3.org/TR/html4/loose.dtd\">"
   ]
  },
  {
   "cell_type": "markdown",
   "metadata": {},
   "source": [
    "2-2. `<html lang=\"en\">`<br>\n",
    "    : 해당 페이지 주 언어가 무엇인지 설정가능, 주언어 설정은? 검색엔진,스크린리더,번역 기능 제공등에 영향을 끼침\n",
    "\n",
    "2-3. `<head>`<br>\n",
    "    : (1)기계가 식별 가능한 문서정보 = 메타데이터를 정의 (2)검색엔진을 위해 다양한 정보가 담김 (3)사용자는 title/favicon/viewport 정보들이 보임\n",
    "\n",
    "    ㄱ) meta\n",
    "        : (1)어떤 목적을 위해 만들어진 데이터 = 메타데이터 (2) 검색엔진이 메타정보를 살펴보고 해당 페이지에서 다양한 정보를 가져감\n",
    "\n",
    "    ㄴ) charset\n",
    "         : 문자 깨짐 오류가 발지를 위해 문자 코드 종류를 설정, <utf-9>은 전세계적인 언어를 지원하도록 한다. '국제 코드 규약'"
   ]
  }
 ],
 "metadata": {
  "language_info": {
   "name": "python"
  }
 },
 "nbformat": 4,
 "nbformat_minor": 2
}
