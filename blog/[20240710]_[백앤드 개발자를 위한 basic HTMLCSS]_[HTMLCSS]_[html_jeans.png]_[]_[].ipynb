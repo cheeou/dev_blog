{
 "cells": [
  {
   "cell_type": "markdown",
   "metadata": {},
   "source": [
    "## HTML 기본 구조\n",
    "\n",
    "HTML은 요소 Elements로 전체 구성이 되어있다.\n",
    "![https://www.hubspot.com/hs-fs/hubfs/html-elements-diagram.png?width=650&name=html-elements-diagram.png.png](attachment:https://www.hubspot.com/hs-fs/hubfs/html-elements-diagram.png?width=650&name=html-elements-diagram.png)"
   ]
  },
  {
   "cell_type": "code",
   "execution_count": null,
   "metadata": {
    "vscode": {
     "languageId": "html"
    }
   },
   "outputs": [],
   "source": []
  },
  {
   "cell_type": "code",
   "execution_count": null,
   "metadata": {
    "vscode": {
     "languageId": "plaintext"
    }
   },
   "outputs": [],
   "source": []
  }
 ],
 "metadata": {
  "language_info": {
   "name": "python"
  }
 },
 "nbformat": 4,
 "nbformat_minor": 2
}
