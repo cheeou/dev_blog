{
 "cells": [
  {
   "cell_type": "markdown",
   "metadata": {},
   "source": [
    "### 콜백함수"
   ]
  },
  {
   "cell_type": "code",
   "execution_count": null,
   "metadata": {},
   "outputs": [],
   "source": [
    "# 1\n",
    "def call():\n",
    "    print(\"호출!!!\")\n",
    "\n",
    "x = call # 함수는 변수 값으로 저장할 수 있다.\n",
    "print(x) # <function call at 0x1062a2700>\n",
    "\n",
    "x() # call 함수 호출\n",
    "\n"
   ]
  },
  {
   "cell_type": "code",
   "execution_count": null,
   "metadata": {},
   "outputs": [],
   "source": [
    "# 2\n",
    "def aaa(함수):\n",
    "    함수()\n",
    "\n",
    "\n",
    "def bbb():\n",
    "    print(\"b 함수 호출!\")\n",
    "\n",
    "aaa(bbb) # 매개변수를 '함수'로 입력하여 전달\n",
    "# 출력 결과 : b 함수 호출 !\n",
    "\n",
    "\n",
    "# 3\n",
    "def call_10_times(콜백함수):\n",
    "    for i in range(10):\n",
    "        콜백함수(i) # 콜백함수(=hello_print)에 '매개변수' 추가\n",
    "\n",
    "def hello_print(매개변수):\n",
    "    print(\"hello_print 함수 호출\", 매개변수)\n",
    "\n",
    "y = call_10_times(hello_print)\n",
    "\n"
   ]
  },
  {
   "cell_type": "markdown",
   "metadata": {},
   "source": [
    "## 일급 객체(First-class citizen)\n",
    "일급 객채란?\n",
    "1. 변수 혹은 데이터 구조(자료구조)안에 담을 수 있어야함\n",
    "2. 매개변수로 전달 가능 해야함.\n",
    "3. 리턴값으로 사용될 수 있어야 함.\n",
    "\n",
    "파이썬의 함수도 일급 객체 조건을 만족한다.\n",
    "함수를 변수에 할당,\n",
    "매개변수로 전달 가능,\n",
    "리턴 가능"
   ]
  },
  {
   "cell_type": "code",
   "execution_count": null,
   "metadata": {},
   "outputs": [],
   "source": [
    "def func1(a, b):\n",
    "    return a + b\n",
    "\n",
    "f1 = func1 # f1라는 변수에 func1 함수 할당\n",
    "\n",
    "print(f1)\n",
    "print(func1) # 모두 동일한 메모리 주소를 출력 같은 주소를 가리키고 있다.\n",
    "\n",
    "print(f1(1, 2))\n",
    "print(func1(1, 2)) # 리턴 값 동일."
   ]
  },
  {
   "cell_type": "markdown",
   "metadata": {},
   "source": [
    "변수 뿐만 아니라 '리스트' , 자료 구조에 할당 가능하다"
   ]
  },
  {
   "cell_type": "code",
   "execution_count": 17,
   "metadata": {},
   "outputs": [
    {
     "name": "stdout",
     "output_type": "stream",
     "text": [
      "3\n",
      "-1\n"
     ]
    }
   ],
   "source": [
    "def add(a, b):\n",
    "    return a + b\n",
    "\n",
    "def mins(a, b):\n",
    "    return a - b\n",
    "\n",
    "calc = [add, mins]\n",
    "\n",
    "for i in calc:\n",
    "    print(i(1, 2))\n",
    "    \n"
   ]
  }
 ],
 "metadata": {
  "kernelspec": {
   "display_name": "Python 3",
   "language": "python",
   "name": "python3"
  },
  "language_info": {
   "codemirror_mode": {
    "name": "ipython",
    "version": 3
   },
   "file_extension": ".py",
   "mimetype": "text/x-python",
   "name": "python",
   "nbconvert_exporter": "python",
   "pygments_lexer": "ipython3",
   "version": "3.12.4"
  }
 },
 "nbformat": 4,
 "nbformat_minor": 2
}
