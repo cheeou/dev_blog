{
 "cells": [
  {
   "cell_type": "markdown",
   "metadata": {},
   "source": [
    "## 001 ~ 10 파이썬 시작하기"
   ]
  },
  {
   "cell_type": "code",
   "execution_count": null,
   "metadata": {},
   "outputs": [],
   "source": [
    "# 001 print 기초\n",
    "# 화면에 Hello World 문자열을 출력하세요.\n",
    "print(\"Hello World\")\n",
    "\n",
    "# 002 print 기초\n",
    "# 화면에 Mary's cosmetics을 출력하세요. (중간에 '가 있음에 주의하세요)\n",
    "\n",
    "print(\"Mary\\'s cosmetics\")\n",
    "\n",
    "# 003 print 기초\n",
    "# 화면에 아래 문장을 출력하세요. (중간에 \"가 있음에 주의하세요.)\n",
    "print('신씨가 소리 질렀다. \\\"도둑이야\\\".')\n",
    "\n",
    "# 004 print 기초\n",
    "# 화면에 C:\\Windows를 출력하세요.\n",
    "print('C:\\\\Windows')\n",
    "\n",
    "# 005 print 탭과 줄바꿈\n",
    "# 다음 코드를 실행해보고 \\t와 \\n의 역할을 설명해보세요.\n",
    "\n",
    "# \\n : 줄바꿈 , \\t : 들여쓰기"
   ]
  },
  {
   "cell_type": "markdown",
   "metadata": {},
   "source": [
    "## 011 ~ 020 파이썬 변수"
   ]
  },
  {
   "cell_type": "code",
   "execution_count": null,
   "metadata": {},
   "outputs": [],
   "source": [
    "# 011 변수 사용하기\n",
    "# 삼성전자라는 변수로 50,000원을 바인딩해보세요. 삼성전자 주식 10주를 보유하고 있을 때 총 평가금액을 출력하세요.\n",
    "\n",
    "삼성전자 = 50000\n",
    "주식 = int(input('보유 주식 입력'))\n",
    "if 주식 >= 10:\n",
    "    print(f'총평가 금액: {주식*50000} ')\n",
    "\n",
    "# 012 변수 사용하기\n",
    "# 다음 표는 삼성전자의 일부 투자정보입니다. 변수를 사용해서 시가총액, 현재가, PER 등을 바인딩해보세요.\n",
    "시가총액 = 298000000000000\n",
    "현재가 = 50000\n",
    "PER = 15.79\n",
    "\n",
    "print(시가총액, type(시가총액))\n",
    "print(현재가, type(현재가))\n",
    "print(PER, type(PER))\n",
    "\n",
    "\n",
    "# 013 문자열 출력\n",
    "# 변수 s와 t에는 각각 문자열이 바인딩 되어있습니다.\n",
    "\n",
    "s =  \"hello\"\n",
    "t = \"python\"\n",
    "\n",
    "print(f'{s}! {t}')\n",
    "\n",
    "# 014 파이썬을 이용한 값 계산\n",
    "# 아래 코드의 실행 결과를 예상해보세요.\n",
    "# >>> 8\n",
    "\n",
    "# 015 type 함수\n",
    "a = \"132\"\n",
    "print(type(a))\n",
    "\n",
    "# 016 문자열을 정수로 변환\n",
    "# 문자열 '720'를 정수형으로 변환해보세요.\n",
    "\n",
    "num_str = \"720\"\n",
    "print(int(num_str))\n",
    "\n",
    "\n",
    "# 017 정수를 문자열 100으로 변환\n",
    "# 정수 100을 문자열 '100'으로 변환해보세요.\n",
    "\n",
    "num = 100\n",
    "print(str(num))\n",
    "\n",
    "# 018 문자열을 실수로 변환\n",
    "# 문자열 \"15.79\"를 실수(float) 타입으로 변환해보세요.\n",
    "\n",
    "s = \"15.79\"\n",
    "print(float(s))\n",
    "\n",
    "# 019 문자열을 정수로 변환\n",
    "# year라는 변수가 문자열 타입의 연도를 바인딩하고 있습니다. 이를 정수로 변환한 후 최근 3년의 연도를 화면에 출력해보세요.\n",
    "\n",
    "year = \"2020\"\n",
    "print(int(year)-3)\n",
    "print(int(year)-2)\n",
    "print(int(year)-1)\n",
    "\n",
    "# 020 파이썬 계산\n",
    "# 에이컨이 월 48,584원에 무이자 36개월의 조건으로 홈쇼핑에서 판매되고 있습니다. 총 금액은 계산한 후 이를 화면에 출력해보세요. (변수사용하기)\n",
    "\n",
    "에어컨_할부금 = 48584\n",
    "print(f'에어컨 총가격:{int(에어컨_할부금)*36}')\n"
   ]
  },
  {
   "cell_type": "markdown",
   "metadata": {},
   "source": [
    "## 21 ~ 30"
   ]
  },
  {
   "cell_type": "code",
   "execution_count": 41,
   "metadata": {},
   "outputs": [
    {
     "name": "stdout",
     "output_type": "stream",
     "text": [
      "letters[0]: p, letters[1]: y\n",
      "홀홀홀\n",
      "NOHTYP\n",
      "010 1111 2222\n",
      "01011112222\n",
      "['http://sharebook', 'kr']\n",
      "kr\n"
     ]
    }
   ],
   "source": [
    "# 021 문자열 인덱싱\n",
    "# letters가 바인딩하는 문자열에서 첫번째와 세번째 문자를 출력하세요.\n",
    "letters = 'python'\n",
    "print(f'letters[0]: {letters[0]}, letters[1]: {letters[1]}')\n",
    "\n",
    "\n",
    "# 023 문자열 인덱싱\n",
    "# 아래의 문자열에서 '홀' 만 출력하세요.\n",
    "string1 = \"홀짝홀짝홀짝\"\n",
    "print(string1[::2])\n",
    "\n",
    "\n",
    "# 024 문자열 슬라이싱\n",
    "# 문자열을 거꾸로 뒤집어 출력하세요.\n",
    "string2 = \"PYTHON\"\n",
    "print(string2[::-1])\n",
    "\n",
    "# 025 문자열 치환\n",
    "# 아래의 전화번호에서 하이푼 ('-')을 제거하고 출력하세요.\n",
    "phone_number = \"010-1111-2222\"\n",
    "print(phone_number.replace('-',' '))\n",
    "\n",
    "# 026 문자열 다루기\n",
    "# 25번 문제의 전화번호를 아래와 같이 모두 붙여 출력하세요.\n",
    "new_phone_num = phone_number.replace('-', ' ')\n",
    "print(new_phone_num.replace(' ',''))\n",
    "\n",
    "# 027 문자열 다루기\n",
    "# url 에 저장된 웹 페이지 주소에서 도메인을 출력하세요.\n",
    "url = \"http://sharebook.kr\"\n",
    "\n",
    "print(url.split('.'))\n",
    "url_split = url.split('.')\n",
    "print(url_split[-1])\n",
    "\n",
    "# 028 문자열은 immutable\n",
    "# 아래 코드의 실행 결과를 예상해보세요.\n",
    "\n",
    "# 029 replace 메서드\n",
    "# 아래 문자열에서 소문자 'a'를 대문자 'A'로 변경하세요.\n",
    "\n",
    "# 030 replace 메서드\n",
    "# 아래 코드의 실행 결과를 예상해보세요."
   ]
  }
 ],
 "metadata": {
  "kernelspec": {
   "display_name": "Python 3",
   "language": "python",
   "name": "python3"
  },
  "language_info": {
   "codemirror_mode": {
    "name": "ipython",
    "version": 3
   },
   "file_extension": ".py",
   "mimetype": "text/x-python",
   "name": "python",
   "nbconvert_exporter": "python",
   "pygments_lexer": "ipython3",
   "version": "3.12.4"
  }
 },
 "nbformat": 4,
 "nbformat_minor": 2
}
