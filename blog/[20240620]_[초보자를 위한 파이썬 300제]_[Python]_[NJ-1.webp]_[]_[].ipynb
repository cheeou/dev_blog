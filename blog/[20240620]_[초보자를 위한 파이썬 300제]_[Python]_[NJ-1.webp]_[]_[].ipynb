{
 "cells": [
  {
   "cell_type": "markdown",
   "metadata": {},
   "source": [
    "## 자료형"
   ]
  },
  {
   "cell_type": "code",
   "execution_count": null,
   "metadata": {},
   "outputs": [],
   "source": [
    "# 1. 다음 변수들이 가리키고 있는 값에 화살표를 그려주세요. z의 값은 무엇인지도 유추해보세요.\n",
    "\n",
    "x = 100\n",
    "y = 100\n",
    "z = x # z = 100\n",
    "'''\n",
    "# 정수 이터닝(integer interning), 정수 캐싱 (integer caching)으로 정수 int 값 범위 [-5 ~ 256] 값은 미리 객체가 생성 되어 있고 \n",
    "해당 범위 숫자가 필요할 때마다 새로운 객체를 생성하지 않고 미리 생성된 객체를 재사용한다.\n",
    "'''\n"
   ]
  },
  {
   "cell_type": "code",
   "execution_count": null,
   "metadata": {},
   "outputs": [],
   "source": [
    "# 2. 문자를 사용자에게 입력받고, 그 문자를 2번 출력하는 프로그램을 만들어주세요. 예를 들어 ‘abc’를 입력받는다면 ‘abcabc’를 출력해야 합니다.\n",
    "\n",
    "user_data = input(\"아무 문자나 입력\")\n",
    "\n",
    "# 입력 받은 문자 2번 출력\n",
    "print(user_data*2)"
   ]
  },
  {
   "cell_type": "code",
   "execution_count": null,
   "metadata": {},
   "outputs": [],
   "source": []
  }
 ],
 "metadata": {
  "language_info": {
   "name": "python"
  }
 },
 "nbformat": 4,
 "nbformat_minor": 2
}
