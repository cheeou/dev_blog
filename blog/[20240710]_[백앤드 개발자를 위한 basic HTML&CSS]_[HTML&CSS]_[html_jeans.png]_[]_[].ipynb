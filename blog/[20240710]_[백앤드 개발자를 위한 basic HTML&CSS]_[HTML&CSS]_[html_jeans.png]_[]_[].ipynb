{
 "cells": [
  {
   "cell_type": "markdown",
   "metadata": {},
   "source": [
    "### 1. HTML 기본 구조\n",
    "\n",
    "HTML은 요소(Elements)단위로 전체 구성이 되어있다.<br>\n",
    "![html 구조](https://www.hubspot.com/hs-fs/hubfs/html-elements-diagram.png?width=650&name=html-elements-diagram.png)\n"
   ]
  },
  {
   "cell_type": "markdown",
   "metadata": {},
   "source": [
    "#### 1-1. 요소의 올바른 사용 \n",
    "\n",
    "HTML요소안에 다른 요소가 들어갈 수 있으나 end tag 이전에 또 다른 요소가 들어가면 잘못된 사용이다."
   ]
  },
  {
   "cell_type": "code",
   "execution_count": null,
   "metadata": {
    "vscode": {
     "languageId": "html"
    }
   },
   "outputs": [],
   "source": [
    "<p>\n",
    "\tHTML은 요소 안에 \n",
    "\t<strong>다른 요소</strong>가 들어갈 수 있습니다\n",
    "</p>\n",
    "\n",
    "<!-- 잘못 사용된 예 -->\n",
    "<p>\n",
    "\tHTML은 요소 안에 \n",
    "\t<strong>다른 요소 가 들어갈 수 있습니다\n",
    "</p>\n",
    "\t</strong>"
   ]
  },
  {
   "cell_type": "markdown",
   "metadata": {},
   "source": [
    "#### 1-2. Self-closing / 빈요소\n",
    "br, input, img 태그는 닫는 태그가 없어 self-closing 문법으로 end tag에 '/'를 넣어주었지만 현재는 생략해도 된다."
   ]
  },
  {
   "cell_type": "code",
   "execution_count": null,
   "metadata": {
    "vscode": {
     "languageId": "html"
    }
   },
   "outputs": [],
   "source": [
    "(ex)\n",
    "<br />\n",
    "\n",
    "(now)\n",
    "<br>"
   ]
  },
  {
   "cell_type": "markdown",
   "metadata": {},
   "source": [
    "#### 1-3. 주석\n",
    "\n",
    "기밀 사항을 적어두는 것은 피하고 직관적인 코드로 주석을 최소화 하는 것을 목표로 한다. \n",
    "주니어 단계에서는 실수하지 않도록 꼼꼼히 주석을 달아두는 것이 좋다\n",
    "\n",
    "ㄱ) 태그의 시작과 끝을 적어두기: 코드 시작과 끝을 명시해주면 중간 태그 닫는 것을 누락했을 때 오류체크에 용이"
   ]
  },
  {
   "cell_type": "code",
   "execution_count": null,
   "metadata": {
    "vscode": {
     "languageId": "html"
    }
   },
   "outputs": [],
   "source": [
    "<!-- start -->\n",
    "<!-- //end -->\n",
    "\n",
    "<!-- form -->\n",
    "<form>\n",
    "\t...생략...\n",
    "</form>\n",
    "<!-- //form -->"
   ]
  },
  {
   "cell_type": "markdown",
   "metadata": {},
   "source": [
    "#### 1-4. HTML 관계도\n",
    "\n",
    "<p align=\"center\"><img src=\"https://file.notion.so/f/f/579fe283-28aa-489d-ae65-d683304becfc/c5484f5e-4f18-458f-a87a-4f2ae853574d/html.png?id=0d8c5bf5-267e-4322-835a-cb9585aaa806&table=block&spaceId=579fe283-28aa-489d-ae65-d683304becfc&expirationTimestamp=1720713600000&signature=VllbUqF-0D78EyuMhaYyokySC15P3YZ9dAKMfc5zL34&downloadName=html.png\" width=1000 height=600></p>\n",
    "\n",
    "출저- paullabworkspace.notion"
   ]
  },
  {
   "cell_type": "markdown",
   "metadata": {},
   "source": [
    "### 2. HTML 문서해부\n",
    "\n",
    "2-1. `<!DOCTYPE html>`<br>\n",
    "    : HTML의 버전, 웹 브라우저 내용을 잘 출력할 수 있도록 도와주는 역할로 구버전에서 신버전 HTML 태그를 사용한다면 웹브라우저에서 문법오류로 간주한다. 해당 선언을 통해 구/신 버전에 알맞게 문법을 검사한다. 그러나 기본적으로 브라우저가 알아서 처리해줌\n"
   ]
  },
  {
   "cell_type": "code",
   "execution_count": null,
   "metadata": {
    "vscode": {
     "languageId": "html"
    }
   },
   "outputs": [],
   "source": [
    "<!-- HTML 4.01 Strict -->\n",
    "<!DOCTYPE HTML PUBLIC \"-//W3C//DTD HTML 4.01//EN\" \"http://www.w3.org/TR/html4/strict.dtd\">\n",
    " \n",
    "<!-- HTML 4.01 Transitional -->\n",
    "<!DOCTYPE HTML PUBLIC \"-//W3C//DTD HTML 4.01 Transitional//EN\" \"http://www.w3.org/TR/html4/loose.dtd\">"
   ]
  },
  {
   "cell_type": "markdown",
   "metadata": {},
   "source": [
    "### 2-2. `<html lang=\"en\">`<br>\n",
    "    : 해당 페이지 주 언어가 무엇인지 설정가능, 주언어 설정은? 검색엔진,스크린리더,번역 기능 제공등에 영향을 끼침\n",
    "\n",
    "\n",
    "### 2-3. `<head>`<br>\n",
    "    : (1)기계가 식별 가능한 문서정보 = 메타데이터를 정의 (2)검색엔진을 위해 다양한 정보가 담김 (3)사용자는 title/favicon/viewport 정보들이 보임\n",
    "\n",
    "    ㄱ) `meta`\n",
    "        : (1)어떤 목적을 위해 만들어진 데이터 = 메타데이터 (2) 검색엔진이 메타정보를 살펴보고 해당 페이지에서 다양한 정보를 가져감\n",
    "\n",
    "    ㄴ) `<meta charset=\"utf-8\">`\n",
    "         : 문자 깨짐 오류가 발지를 위해 문자 코드 종류를 설정, <utf-9>은 전세계적인 언어를 지원하도록 한다. '국제 코드 규약'\n",
    "    \n",
    "    ㄷ) `<meta http-equiv=\"X-UA-Compatible\" content=\"IE=edge\" />`\n",
    "        : 브라우저 호환성을 위해 명시 = IE 최신 표준 모드\n",
    "    \n",
    "    ㄹ) `<meta name=\"viewport\" content=\"width=device-width, initial-scale=1.0\" />`\n",
    "        : 뷰포트? 현재 보고 있는 컴퓨터 화면 영역 , 일반적으로 브라우저 창과 동일. 뷰포트 크기는 width,intial-scale로 크기/비율 조정가능\n",
    "\n",
    "### 2-4. title\n",
    "    : 브라우저 제목 표시줄 페이지 탭에 보이는 문서 제목, 검색엔진을 통해 사용자가 식별하는 제목, 60자를 넘지 않을 것.\n",
    "\n",
    "### 2-5. Link\n",
    "    : 현재 문서와 외부 리소스 관계 명시. \n",
    "            (1)'head' - 요소 내부에서만 위치 가능 (2) 'rel' - 대상 파일의 속성 명시 (3) 'href' 하이퍼레퍼런스 경로 연결시 참조할 위치"
   ]
  },
  {
   "cell_type": "code",
   "execution_count": null,
   "metadata": {
    "vscode": {
     "languageId": "html"
    }
   },
   "outputs": [],
   "source": [
    "<html>\n",
    "<head>\n",
    "  <!-- 스타일 시트 링크 -->\n",
    "  <link rel=\"stylesheet\" href=\"style.css\">\n",
    "  \n",
    "\t<!-- 폰트 링크 -->\n",
    "  <link rel=\"stylesheet\" href=\"font.ttf\">\n",
    "  \n",
    "\t<!-- 파비콘 링크 -->\n",
    "  <link rel=\"shortcut icon\" href=\"favicon.ico\"> \n",
    "</head>\n",
    "<body>\n",
    "</body>\n",
    "</html>"
   ]
  },
  {
   "cell_type": "markdown",
   "metadata": {},
   "source": [
    "### 2-6. body \n",
    "    :사용자에게 보이는 영역\n",
    "\n",
    "\n",
    "\n",
    "\n",
    "\n",
    "\n",
    "\n",
    "    "
   ]
  },
  {
   "cell_type": "markdown",
   "metadata": {},
   "source": [
    "<br><br><hr>\n",
    "<img src=\"https://colorful-web-f3b.notion.site/image/https%3A%2F%2Fprod-files-secure.s3.us-west-2.amazonaws.com%2F8e96c391-07ce-4a54-af92-70027addd14e%2F1b1a2d31-c5d1-4ddc-903b-ce62afab888e%2Fwhoisnext.png?table=block&id=d39b6305-1870-4031-9971-6e89c380fc68&spaceId=8e96c391-07ce-4a54-af92-70027addd14e&width=1420&userId=&cache=v2\" width=600 height=400>\n",
    "\n",
    "<hr>"
   ]
  },
  {
   "cell_type": "markdown",
   "metadata": {},
   "source": [
    "### 3. block, inline 요소\n",
    "\n",
    "#### 3-1. block\n",
    "    : (1)부모 요소의 전체 공간을 차지하여 블록 생성됨 (2)항상 줄바꿈이 되고 양측 최대 늘어날 수 있는 모든 너비를 차지 (3)인라인 요소에 중첩 불가\n",
    "\n",
    "* 인라인 요소 중에 a 태그의 경우 블록 요소 중첩 가능 `<a href=”#”><div></div></a>`\n",
    "\n",
    "#### 3-2. inline\n",
    "    : 항상 블록 레벨 요소 내에 포함, 콘텐츠 흐름이 끊기지 않고 할당된 공간만 차지함, 문장이나 단어 같은 작은 부분에 적용됨, 줄바꿈이 되지 않음, width/height 크기 지정 불가 그러나 padding/border/margin 속성 중 좌/우 조정만 가능\n",
    "\n",
    "\n",
    "### 4. 다양한 태그들\n",
    "\n",
    "#### 4-1. div & span\n",
    "ㄱ) `div` \n",
    "    : 콘텐츠 분할 요소, 여러 태그 그룹핑 용도, 블록 요소, css로 스타일 주기 전에는 콘텐츠,레이아웃에 아무런 영향이 없음\n",
    "    div 태그 남발은 안되고 seo,코드 가독성,접근성을 위해 header-footer-main-section-article-nav 시맨틱한 태그를 콘텐츠를 그룹핑하고 분할 지향\n",
    "    \n",
    "ㄴ) `span`\n",
    "    : 인라인 요소\n",
    "\n",
    "#### 4-2. Sections\n",
    "ㄱ) `header`\n",
    "    : 소개 및 탐색에 도움을 줌, 회사명/제목/로고/검색폼/작성자 이름 요소가 포함될 수 있음, head태그와 혼동 하면 안됨"
   ]
  },
  {
   "cell_type": "markdown",
   "metadata": {},
   "source": [
    "\n",
    "ㄴ) `nav`\n",
    "    :문서 부분 중 현재 페이지 안에 다른 페이지로 링크를 보여줌, 메뉴/목차/브레드크럼으로 사용됨"
   ]
  },
  {
   "cell_type": "code",
   "execution_count": null,
   "metadata": {
    "vscode": {
     "languageId": "html"
    }
   },
   "outputs": [],
   "source": [
    "<!-- 메뉴 -->\n",
    "<nav>\n",
    "\t<ul>\n",
    "\t\t<li><a href=\"#\">위니브</a></li>\n",
    "\t\t<li><a href=\"#\">About</a></li>\n",
    "\t\t<li><a href=\"#\">Contact</a></li>\n",
    "\t</ul>\n",
    "</nav>\n",
    "\n",
    "<!-- 브레드크럼 -->\n",
    "<nav>\n",
    "\t<ol>\n",
    "\t\t<li><a href=\"#\">위니브</a></li>\n",
    "\t\t<li><a href=\"#\">캐릭터소개</a></li>\n",
    "\t\t<li>라이캣</li>\n",
    "\t</ol>\n",
    "</nav>\n"
   ]
  },
  {
   "cell_type": "markdown",
   "metadata": {},
   "source": [
    "ㄷ) `footer` : 페이지 작성자, 저작권 정보, 관련 문서 명시 \n",
    "\n",
    "ㄹ) `main` : body의 주요 컨텐츠, 웹페이지에서 한번만 사용 가능\n",
    "\n",
    "ㅁ) `article` : 게시판,블로그 글, 뉴스 기사 등 독립적으로 배포하거나 재사용 가능한 기능 수행\n",
    "\n",
    "ㅂ) `section` : 동일한 주제로 나눠지는 구획을 표현하기 위한 요소"
   ]
  },
  {
   "cell_type": "code",
   "execution_count": null,
   "metadata": {
    "vscode": {
     "languageId": "html"
    }
   },
   "outputs": [],
   "source": [
    "article vs section\n",
    "-독립적으로 사용한다면 article 사용,\n",
    "-웹페이지의 앞뒤 문맥이 연결성이 필요하거나, 더 적합한 의미를 가진 요소가 없을 때 section을 사용\n",
    "-단순 스타일링이 목적이라면 div 요소를 사용"
   ]
  },
  {
   "cell_type": "markdown",
   "metadata": {},
   "source": [
    "ㅅ) `aside` : 문서 주요 내용과 간접적으로 연관된 부분을 나타냄 (eg.각주/광고배너 등..)\n",
    "\n",
    "### 4-3.Contents\n",
    "\n",
    "#### h1/h2/h3/h4/h5/h6 \n",
    "    : heading 제목, 순차적으로 작성되어야함\n",
    "\n",
    "#### a 태그\n",
    "    ㄱ) `href` : 하이퍼 텍스트 참조, `tel` : 전화번호, `mailto`: 이메일 주소\n",
    "    \n",
    "    ㄴ) `target` 속성값: '_self' : 현재페이지(기본값), '_blank' : 새 탭\n",
    "\n",
    "    ㄷ) `download` : 링크 이동 대신 사용자에게 url에 위치하는 대상을 저장할지 물어봄, 브라우저에서 바로 열기 가능한 파일 포멧이라면 실행이 바로됨\n"
   ]
  },
  {
   "cell_type": "code",
   "execution_count": null,
   "metadata": {
    "vscode": {
     "languageId": "html"
    }
   },
   "outputs": [],
   "source": [
    "<a href=\"b.html\">b.html으로 이동</a>\n",
    "<a href=\"b.html\" target=\"_blank\">b.html 새탭으로 이동</a>\n",
    "<a href=\"b.html\" download>b.html 파일 다운로드</a>\n",
    "<a href=\"mailto:google@gmail.com\">mailto:google@gmail.com</a>\n",
    "<a href=\"tel:010-0000-0000\">010-1234-1234</a>"
   ]
  },
  {
   "cell_type": "markdown",
   "metadata": {},
   "source": [
    "#### p/strong/br/hr/code/pre\n",
    "ㄱ) `p` : 문단을 나타내고, 블록 요소이다\n",
    "\n",
    "ㄴ) `strong` : 중대하거나 긴급한 콘텐츠를 나타낸다 (단어 혹은 문장), 굵은 글꼴이 적용, 스크린리더에서 강조하여 소리 내어 발음됨\n",
    "\n",
    "ㄷ) `br` : break(line break) 줄을 나눈다라는 의미, html은 엔터 값을 인식하지 않기 때문에 html 문서에서 여러 줄로 되어 있어도 실제 화면에서는 한 줄로 보임\n",
    "\n",
    "ㄹ) `hr` : 컨텐츠 전환 문단 안에서 주제가 변경 되었을 때 사용\n",
    "\n",
    "ㅁ) `code` : 짧은 코드 조각 한줄을 나타낼 때 사용"
   ]
  },
  {
   "cell_type": "code",
   "execution_count": null,
   "metadata": {
    "vscode": {
     "languageId": "html"
    }
   },
   "outputs": [],
   "source": [
    "<code>push()</code>"
   ]
  },
  {
   "cell_type": "markdown",
   "metadata": {},
   "source": [
    "ㅂ) `pre` : html에 작성한 내용 그대로 표현, 텍스트는 고정 폭 글꼴을 사용하고 공백 그대로 유지\n",
    "\n",
    "#### 목록 태그 ol/ul/li\n",
    "\n",
    "ㄱ) `ol` :  순차적 목록"
   ]
  },
  {
   "cell_type": "code",
   "execution_count": null,
   "metadata": {
    "vscode": {
     "languageId": "html"
    }
   },
   "outputs": [],
   "source": [
    "`type`: 항목을 셀 때 사용할 카운터 유형\n",
    "- `1`: 숫자(기본값)\n",
    "- `a`: 소문자 알파벳\n",
    "- `A`: 대문자 알파벳\n",
    "- `i`: 소문자 로마 숫자\n",
    "- `I`: 대문자 로마 숫자"
   ]
  },
  {
   "cell_type": "code",
   "execution_count": null,
   "metadata": {
    "vscode": {
     "languageId": "html"
    }
   },
   "outputs": [],
   "source": [
    "<ol type=\"i\">\n",
    "    <li>Introduction</li>\n",
    "    <li>List of Grievances</li>\n",
    "    <li>Conclusion</li>\n",
    "  </ol>"
   ]
  }
 ],
 "metadata": {
  "language_info": {
   "name": "python"
  }
 },
 "nbformat": 4,
 "nbformat_minor": 2
}
